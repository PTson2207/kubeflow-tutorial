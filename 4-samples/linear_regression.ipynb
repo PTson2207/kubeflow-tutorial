{
 "cells": [
  {
   "cell_type": "code",
   "execution_count": 54,
   "metadata": {
    "tags": []
   },
   "outputs": [],
   "source": [
    "from typing import NamedTuple\n",
    "import kfp\n",
    "from kfp.components import InputPath, OutputPath, InputTextFile, OutputTextFile\n",
    "from kfp.components import func_to_container_op\n",
    "\n",
    "from datetime import datetime\n",
    "\n",
    "import sys\n",
    "sys.path.insert(0, '..')"
   ]
  },
  {
   "cell_type": "code",
   "execution_count": 55,
   "metadata": {
    "tags": []
   },
   "outputs": [],
   "source": [
    "import pandas as pd"
   ]
  },
  {
   "cell_type": "markdown",
   "metadata": {
    "tags": []
   },
   "source": [
    "## Define several constants"
   ]
  },
  {
   "cell_type": "code",
   "execution_count": 56,
   "metadata": {
    "tags": []
   },
   "outputs": [],
   "source": [
    "EXPERIMENT_NAME = \"tutorial\"\n",
    "PIPELINE_NAME = \"linear regression\"\n",
    "PIPELINE_VERSION = \"0.0.1\" # remember to change every run\n",
    "PIPELINE_DESCRIPTION = \"Using linear regression to predict house prices\"\n",
    "DATASET_URL = \"https://raw.githubusercontent.com/quan-dang/kubeflow-tutorials/master/data/housing.csv\""
   ]
  },
  {
   "cell_type": "markdown",
   "metadata": {
    "tags": []
   },
   "source": [
    "## Create components from func"
   ]
  },
  {
   "cell_type": "code",
   "execution_count": 57,
   "metadata": {
    "tags": []
   },
   "outputs": [],
   "source": [
    "def prepare_data(\n",
    "    url: str,\n",
    "    X_train_path: OutputPath('PKL'),\n",
    "    y_train_path: OutputPath('PKL'),\n",
    "    X_val_path: OutputPath('PKL'),\n",
    "    y_val_path: OutputPath('PKL'),\n",
    "    X_test_path: OutputPath('PKL'),\n",
    "    y_test_path: OutputPath('PKL'),\n",
    "):\n",
    "    import pandas as pd\n",
    "    import wget \n",
    "    from sklearn.model_selection import train_test_split\n",
    "    import joblib\n",
    "    \n",
    "    wget.download(url)\n",
    "    \n",
    "    df = pd.read_csv(\"housing.csv\")\n",
    "    X = df.drop(columns=[\"price\"])\n",
    "    y = df[\"price\"]\n",
    "    \n",
    "    #create train test split\n",
    "    X_train, X_test, y_train, y_test = train_test_split(X, y, random_state=42, test_size=.1)\n",
    "    \n",
    "    #split train to train and validate\n",
    "    X_train, X_val, y_train, y_val = train_test_split(X_train, y_train, test_size=.1, random_state=42)\n",
    "    \n",
    "    #dump data to pkl\n",
    "    joblib.dump(X_train, X_train_path)\n",
    "    joblib.dump(y_train, y_train_path)\n",
    "    joblib.dump(X_val, X_val_path)\n",
    "    joblib.dump(y_val, y_val_path)\n",
    "    joblib.dump(X_test, X_test_path)\n",
    "    joblib.dump(y_test, y_test_path)"
   ]
  },
  {
   "cell_type": "code",
   "execution_count": 58,
   "metadata": {
    "tags": []
   },
   "outputs": [],
   "source": [
    "prepare_data_op = func_to_container_op(\n",
    "    func=prepare_data,\n",
    "    packages_to_install = [\n",
    "        \"scikit-learn==1.0.2\",\n",
    "        \"joblib==1.1.0\",\n",
    "        \"pandas==1.3.5\",\n",
    "        \"wget==3.2\"\n",
    "    ]\n",
    ")"
   ]
  },
  {
   "cell_type": "code",
   "execution_count": 59,
   "metadata": {
    "tags": []
   },
   "outputs": [],
   "source": [
    "def train(\n",
    "    X_train_path: InputPath('PKL'),\n",
    "    y_train_path: InputPath('PKL'),\n",
    "    X_val_path: InputPath('PKL'),\n",
    "    y_val_path: InputPath('PKL'),\n",
    "    clf_path: OutputPath('Model')\n",
    "):\n",
    "    from sklearn.preprocessing import OneHotEncoder\n",
    "    from sklearn.pipeline import Pipeline\n",
    "    from sklearn.linear_model import LinearRegression\n",
    "    from sklearn.compose import ColumnTransformer\n",
    "    from sklearn.metrics import r2_score\n",
    "    import joblib\n",
    "    \n",
    "    #load data\n",
    "    X_train = joblib.load(X_train_path)\n",
    "    y_train = joblib.load(y_train_path)\n",
    "    X_val = joblib.load(X_val_path)\n",
    "    y_val = joblib.load(y_val_path)\n",
    "    \n",
    "    categorical_features = X_train.loc[:, X_train.dtypes == object].columns\n",
    "\n",
    "    categorical_transformer = OneHotEncoder()\n",
    "\n",
    "    preprocessor = ColumnTransformer(\n",
    "        transformers=[\n",
    "            (\"cat\", categorical_transformer, categorical_features),\n",
    "        ],\n",
    "        remainder = 'passthrough'\n",
    "    )\n",
    "\n",
    "    clf = Pipeline(\n",
    "        steps=[(\"preprocessor\", preprocessor), (\"regressor\", LinearRegression())]\n",
    "    )\n",
    "\n",
    "    # fit data to model\n",
    "    clf.fit(X_train, y_train)\n",
    "    \n",
    "    #make prediction \n",
    "    y_val_pred = clf.predict(X_val)\n",
    "    \n",
    "    # evaluate \n",
    "    print(f\"r2_score: {r2_score(y_val, y_val_pred)}\")\n",
    "    \n",
    "    joblib.dump(clf, clf_path)\n",
    "    \n",
    "    \n",
    "    \n",
    "    "
   ]
  },
  {
   "cell_type": "code",
   "execution_count": 60,
   "metadata": {
    "tags": []
   },
   "outputs": [],
   "source": [
    "train_op = func_to_container_op(\n",
    "    func=train,\n",
    "    packages_to_install = [\n",
    "        \"scikit-learn==1.0.2\",\n",
    "        \"joblib==1.1.0\",\n",
    "        \"pandas==1.3.5\"\n",
    "    ]\n",
    ")"
   ]
  },
  {
   "cell_type": "code",
   "execution_count": 61,
   "metadata": {
    "tags": []
   },
   "outputs": [],
   "source": [
    "def evaluate(\n",
    "    X_test_path: InputPath('PKL'),\n",
    "    y_test_path: InputPath('PKL'),\n",
    "    clf_path: InputPath('Model'),\n",
    "    y_test_pred_path: OutputPath('PKL')\n",
    ") -> NamedTuple('Outputs', [('mlpipeline_metrics', 'Metrics')]):\n",
    "    import joblib\n",
    "    from sklearn.metrics import r2_score\n",
    "    import json\n",
    "    \n",
    "    #load data\n",
    "    X_test = joblib.load(X_test_path)\n",
    "    y_test = joblib.load(y_test_path)\n",
    "    \n",
    "    #load model\n",
    "    clf = joblib.load(clf_path)\n",
    "    \n",
    "    #make prediction on the test\n",
    "    y_test_pred = clf.predict(X_test)\n",
    "    \n",
    "    joblib.dump(y_test_pred, y_test_pred_path)\n",
    "    \n",
    "    metrics = {\n",
    "        'metrics': [{\n",
    "            'name': 'r2-score',\n",
    "            'numberValue': r2_score(y_test, y_test_pred),\n",
    "            'format': 'RAW',\n",
    "        }]\n",
    "    }\n",
    "    \n",
    "    return [json.dumps(metrics)]\n",
    "    \n",
    "    "
   ]
  },
  {
   "cell_type": "code",
   "execution_count": 62,
   "metadata": {
    "tags": []
   },
   "outputs": [],
   "source": [
    "evaluate_op = func_to_container_op(\n",
    "    func=evaluate,\n",
    "    packages_to_install = [\n",
    "        \"scikit-learn==1.0.2\",\n",
    "        \"joblib==1.1.0\",\n",
    "        \"pandas==1.3.5\"\n",
    "    ]\n",
    ")"
   ]
  },
  {
   "cell_type": "code",
   "execution_count": 63,
   "metadata": {
    "tags": []
   },
   "outputs": [],
   "source": [
    "def visualize(\n",
    "    X_test_path: InputPath('PKL'),\n",
    "    y_test_path: InputPath('PKL'),\n",
    "    y_test_pred_path: InputPath('PKL'),\n",
    "    mlpipeline_ui_metadata_path: OutputPath(),\n",
    "):\n",
    "    import joblib\n",
    "    import matplotlib.pyplot as plt\n",
    "    import base64\n",
    "    from io import BytesIO\n",
    "    import json\n",
    "    \n",
    "    #load data\n",
    "    X_test = joblib.load(X_test_path)\n",
    "    y_test = joblib.load(y_test_path)\n",
    "    y_test_pred = joblib.load(y_test_pred_path)\n",
    "    \n",
    "    ncols = 4\n",
    "    nrows = 3\n",
    "    \n",
    "    fig, axs = plt.subplots(ncols=ncols, nrows=nrows, figsize=(10, 5),\n",
    "                            constrained_layout=True)\n",
    "    \n",
    "    for row in range(nrows):\n",
    "        for col in range(ncols):\n",
    "            feature_index = row*col + col\n",
    "            axs[row, col].scatter(X_test.iloc[:, feature_index], y_test, color=\"red\")\n",
    "            axs[row, col].scatter(X_test.iloc[:, feature_index], y_test_pred, color=\"blue\")\n",
    "            axs[row, col].set_title(X_test.columns[feature_index])\n",
    "            \n",
    "    fig.suptitle(\"Test data\")\n",
    "    \n",
    "    tmpfile = BytesIO()\n",
    "    fig.savefig(tmpfile, format='png')\n",
    "    encoded = base64.b64encode(tmpfile.getvalue()).decode('utf-8')\n",
    "    html = '<img src=\\'data:image/png;base64,{}\\'>'.format(encoded)\n",
    "\n",
    "    with open('test.html','w') as f:\n",
    "        f.write(html)\n",
    "        \n",
    "    metadata = {\n",
    "        'outputs': [{\n",
    "            'type': 'web-app',\n",
    "            'storage': 'inline',\n",
    "            'source': html\n",
    "        }]\n",
    "    }\n",
    "    \n",
    "    with open(mlpipeline_ui_metadata_path, 'w') as metadata_file:\n",
    "        json.dump(metadata, metadata_file)\n",
    "        \n"
   ]
  },
  {
   "cell_type": "code",
   "execution_count": 64,
   "metadata": {
    "tags": []
   },
   "outputs": [],
   "source": [
    "visualize_op = func_to_container_op(\n",
    "    func=visualize,\n",
    "    packages_to_install=[\n",
    "        \"matplotlib==3.5.1\",\n",
    "        \"joblib==1.1.0\",\n",
    "        \"pandas==1.3.5\"\n",
    "    ]\n",
    ")"
   ]
  },
  {
   "cell_type": "code",
   "execution_count": 65,
   "metadata": {
    "tags": []
   },
   "outputs": [],
   "source": [
    "#define pipeline and create task\n",
    "def my_pipeline(url):\n",
    "    prepare_data_task = prepare_data_op(url=url)\n",
    "    \n",
    "    train_task = train_op(x_train=prepare_data_task.outputs[\"X_train\"],\n",
    "                          y_train=prepare_data_task.outputs[\"y_train\"],\n",
    "                          x_val=prepare_data_task.outputs[\"X_val\"],\n",
    "                          y_val=prepare_data_task.outputs[\"y_val\"],\n",
    "                         )\n",
    "    \n",
    "    evaluate_task = evaluate_op(x_test=prepare_data_task.outputs[\"X_test\"],\n",
    "                                y_test=prepare_data_task.outputs[\"y_test\"],\n",
    "                                clf=train_task.outputs['clf']\n",
    "                               )\n",
    "    \n",
    "    visualize_task = visualize_op(x_test=prepare_data_task.outputs['X_test'],\n",
    "                                  y_test=prepare_data_task.outputs['y_test'],\n",
    "                                  y_test_pred=evaluate_task.outputs['y_test_pred']\n",
    "                                 )\n",
    "    "
   ]
  },
  {
   "cell_type": "code",
   "execution_count": 66,
   "metadata": {
    "tags": []
   },
   "outputs": [
    {
     "data": {
      "text/html": [
       "<a href=\"/pipeline/#/experiments/details/7a6fd791-8dbb-4955-af81-54856edd2715\" target=\"_blank\" >Experiment details</a>."
      ],
      "text/plain": [
       "<IPython.core.display.HTML object>"
      ]
     },
     "metadata": {},
     "output_type": "display_data"
    },
    {
     "data": {
      "text/html": [
       "<a href=\"/pipeline/#/runs/details/4b44e2b6-122e-424f-87ad-a12c42db6f75\" target=\"_blank\" >Run details</a>."
      ],
      "text/plain": [
       "<IPython.core.display.HTML object>"
      ]
     },
     "metadata": {},
     "output_type": "display_data"
    },
    {
     "data": {
      "text/plain": [
       "RunPipelineResult(run_id=4b44e2b6-122e-424f-87ad-a12c42db6f75)"
      ]
     },
     "execution_count": 66,
     "metadata": {},
     "output_type": "execute_result"
    }
   ],
   "source": [
    "client = kfp.Client()\n",
    "\n",
    "client.create_run_from_pipeline_func(\n",
    "    pipeline_func=my_pipeline,\n",
    "    arguments={\n",
    "        'url': DATASET_URL\n",
    "    }\n",
    ")"
   ]
  },
  {
   "cell_type": "code",
   "execution_count": null,
   "metadata": {
    "tags": [
     "block:"
    ]
   },
   "outputs": [],
   "source": []
  }
 ],
 "metadata": {
  "kernelspec": {
   "display_name": "Python 3",
   "language": "python",
   "name": "python3"
  },
  "kubeflow_notebook": {
   "autosnapshot": true,
   "docker_image": "gcr.io/arrikto/jupyter-kale-py36@sha256:dd3f92ca66b46d247e4b9b6a9d84ffbb368646263c2e3909473c3b851f3fe198",
   "experiment": {
    "id": "",
    "name": ""
   },
   "experiment_name": "",
   "katib_metadata": {
    "algorithm": {
     "algorithmName": "grid"
    },
    "maxFailedTrialCount": 3,
    "maxTrialCount": 12,
    "objective": {
     "objectiveMetricName": "",
     "type": "minimize"
    },
    "parallelTrialCount": 3,
    "parameters": []
   },
   "katib_run": false,
   "pipeline_description": "",
   "pipeline_name": "",
   "snapshot_volumes": true,
   "steps_defaults": [
    "label:access-ml-pipeline:true",
    "label:access-rok:true"
   ],
   "volume_access_mode": "rwm",
   "volumes": [
    {
     "annotations": [],
     "mount_point": "/home/jovyan",
     "name": "tutorial-kubeflow-workspace-4sp4s",
     "size": 5,
     "size_type": "Gi",
     "snapshot": false,
     "type": "clone"
    }
   ]
  },
  "language_info": {
   "codemirror_mode": {
    "name": "ipython",
    "version": 3
   },
   "file_extension": ".py",
   "mimetype": "text/x-python",
   "name": "python",
   "nbconvert_exporter": "python",
   "pygments_lexer": "ipython3",
   "version": "3.6.9"
  }
 },
 "nbformat": 4,
 "nbformat_minor": 4
}
