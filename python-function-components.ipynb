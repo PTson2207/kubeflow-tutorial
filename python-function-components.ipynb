{
 "cells": [
  {
   "cell_type": "code",
   "execution_count": null,
   "metadata": {},
   "outputs": [],
   "source": [
    "#!pip3 install kfp --upgrade"
   ]
  },
  {
   "cell_type": "code",
   "execution_count": null,
   "metadata": {},
   "outputs": [],
   "source": [
    "#!pip3 install tensorflow"
   ]
  },
  {
   "cell_type": "code",
   "execution_count": null,
   "metadata": {},
   "outputs": [],
   "source": [
    "#!pip freeze"
   ]
  },
  {
   "cell_type": "code",
   "execution_count": 4,
   "metadata": {},
   "outputs": [],
   "source": [
    "import kfp\n",
    "from kfp.components import create_component_from_func"
   ]
  },
  {
   "cell_type": "code",
   "execution_count": 5,
   "metadata": {},
   "outputs": [],
   "source": [
    "client = kfp.Client()"
   ]
  },
  {
   "cell_type": "code",
   "execution_count": 6,
   "metadata": {},
   "outputs": [
    {
     "data": {
      "text/plain": [
       "<kfp._client.Client at 0x7fb3303395f8>"
      ]
     },
     "execution_count": 6,
     "metadata": {},
     "output_type": "execute_result"
    }
   ],
   "source": [
    "client"
   ]
  },
  {
   "cell_type": "code",
   "execution_count": 7,
   "metadata": {},
   "outputs": [],
   "source": [
    "def add(a: float, b: float) -> float:\n",
    "    return a + b"
   ]
  },
  {
   "cell_type": "code",
   "execution_count": 8,
   "metadata": {},
   "outputs": [],
   "source": [
    "add_op = create_component_from_func(\n",
    "    add, output_component_file=\"add_component.yaml\"\n",
    ")"
   ]
  },
  {
   "cell_type": "code",
   "execution_count": 9,
   "metadata": {},
   "outputs": [
    {
     "data": {
      "text/html": [
       "<a href=\"/pipeline/#/experiments/details/7a6fd791-8dbb-4955-af81-54856edd2715\" target=\"_blank\" >Experiment details</a>."
      ],
      "text/plain": [
       "<IPython.core.display.HTML object>"
      ]
     },
     "metadata": {},
     "output_type": "display_data"
    },
    {
     "data": {
      "text/html": [
       "<a href=\"/pipeline/#/runs/details/720875bd-bedf-4dee-af81-21dbde6b4323\" target=\"_blank\" >Run details</a>."
      ],
      "text/plain": [
       "<IPython.core.display.HTML object>"
      ]
     },
     "metadata": {},
     "output_type": "display_data"
    },
    {
     "data": {
      "text/plain": [
       "RunPipelineResult(run_id=720875bd-bedf-4dee-af81-21dbde6b4323)"
      ]
     },
     "execution_count": 9,
     "metadata": {},
     "output_type": "execute_result"
    }
   ],
   "source": [
    "#create and run pipeline\n",
    "\n",
    "import kfp.dsl as dsl\n",
    "\n",
    "@dsl.pipeline(\n",
    "    name=\"Addition pipline\",\n",
    "    description=\"An example pipeline that perform addition calculator\"\n",
    ")\n",
    "\n",
    "def add_pipeline(a='1', b='7'):\n",
    "    first_add_task = add_op(a, 4)\n",
    "    second_add_task = add_op(first_add_task.output, b)\n",
    "    \n",
    "arguments = {'a': '7', 'b': '8'}\n",
    "\n",
    "client.create_run_from_pipeline_func(add_pipeline, arguments=arguments)"
   ]
  },
  {
   "cell_type": "code",
   "execution_count": 10,
   "metadata": {},
   "outputs": [],
   "source": [
    "from typing import NamedTuple"
   ]
  },
  {
   "cell_type": "code",
   "execution_count": 11,
   "metadata": {},
   "outputs": [],
   "source": [
    "def multiple_return_values_example(a: float, b: float) -> NamedTuple(\n",
    "    \"ExampleOutputs\",\n",
    "    [\n",
    "        ('sum', float),\n",
    "        ('product', float),\n",
    "        ('mlpipeline_ui_metadata', 'UI_metadata'),\n",
    "        ('mlpipeline_metrics', 'Metrics')\n",
    "    ]\n",
    "):\n",
    "    \"\"\" example output function that demonstrates how to reutrn multiple values\"\"\"\n",
    "    \n",
    "    sum_value = a + b\n",
    "    product_value = a * b\n",
    "    \n",
    "    metadata = {\n",
    "        'outputs': [{\n",
    "            'type': 'tensorboard',\n",
    "            'source': 'gs://ml-pipeline-dataset/tensorboard-train',\n",
    "        }]\n",
    "    }\n",
    "    \n",
    "    #export two metric\n",
    "    metrics = {\n",
    "        'metrics': [\n",
    "            {\n",
    "                'name': 'sum',\n",
    "                'numberValue': float(sum_value),\n",
    "            },\n",
    "            {\n",
    "                'name': 'product',\n",
    "                'numberValue': float(product_value),\n",
    "            }\n",
    "        ]\n",
    "    }\n",
    "    from collections import namedtuple\n",
    "    example_output = namedtuple(\n",
    "        'ExampleOutputs',\n",
    "        ['sum', 'product', 'mlpipeline_ui_metadata', 'mlpipeline_metrics']\n",
    "    )\n",
    "    \n",
    "    return example_output(sum_value, product_value, metadata, metrics)"
   ]
  },
  {
   "cell_type": "code",
   "execution_count": 12,
   "metadata": {},
   "outputs": [],
   "source": [
    "def split_text_lines(\n",
    "    source_path: kfp.components.InputPath(str),\n",
    "    odd_lines_path: kfp.components.OutputPath(str),\n",
    "    even_lines_path: kfp.components.OutputPath(str)\n",
    "):\n",
    "    \"\"\"Splits a text file into two files, with even lines going to one file\n",
    "    and odd lines to the other\"\"\"\n",
    "    with open(source_path, 'r') as reader:\n",
    "        with open(odd_lines_path, 'w') as odd_writer:\n",
    "            with open(even_lines_path, 'w') as even_writer:\n",
    "                while True:\n",
    "                    line = reader.readline()\n",
    "                    if line == \"\":\n",
    "                        break\n",
    "                    odd_writer.write(line)\n",
    "                    line = reader.readline()\n",
    "                    if line == \"\":\n",
    "                        break\n",
    "                    even_writer.wirte(line)"
   ]
  },
  {
   "cell_type": "code",
   "execution_count": 13,
   "metadata": {},
   "outputs": [],
   "source": [
    "def my_divmod(\n",
    "    dividend: float,\n",
    "    divisor: float\n",
    ") -> NamedTuple(\n",
    "    'MyDivmodOutput',\n",
    "    [\n",
    "        ('quotient', float),\n",
    "        ('remainder', float),\n",
    "        ('mlpipeline_ui_metadata', 'UI_metadata'),\n",
    "        ('mlpipeline_metrics', 'Metrics')\n",
    "    ]\n",
    "):\n",
    "    \"\"\"divides two number and calculate the quotient and reamainder\"\"\"\n",
    "    \n",
    "    import numpy as np\n",
    "    \n",
    "    def divmod_helper(dividend, divisor):\n",
    "        return np.divmod(dividend, divisor)\n",
    "    \n",
    "    (quotient, remainder) = divmod_helper(dividend, divisor)\n",
    "    \n",
    "    from tensorflow.python.lib.io import file_io\n",
    "    import json\n",
    "    \n",
    "    metadata = {\n",
    "        'outputs': [{\n",
    "            'type': 'tensorboard',\n",
    "            'source': 'gs://ml-pipeline-dataset/tensorboard-train',\n",
    "        }]\n",
    "    }\n",
    "    \n",
    "    metrics = {\n",
    "        'metrics': [{\n",
    "            'name': 'quotient',\n",
    "            'numberValue': float(quotient),\n",
    "        },\n",
    "        {\n",
    "          'name': 'remainder',\n",
    "            'numbervalue': float(remainder),\n",
    "        }]\n",
    "        \n",
    "    }\n",
    "    from collections import namedtuple\n",
    "    divmod_output = namedtuple('MyDivmodOutput',\n",
    "                             ['quotient', 'remainder', 'mlpipeline_ui_metadata', 'mlpipeline_metrics'])\n",
    "    \n",
    "    return divmod_output(quotient, remainder, json.dumps(metadata), json.dumps(metrics))"
   ]
  },
  {
   "cell_type": "code",
   "execution_count": 14,
   "metadata": {},
   "outputs": [
    {
     "data": {
      "text/plain": [
       "MyDivmodOutput(quotient=14, remainder=2, mlpipeline_ui_metadata='{\"outputs\": [{\"type\": \"tensorboard\", \"source\": \"gs://ml-pipeline-dataset/tensorboard-train\"}]}', mlpipeline_metrics='{\"metrics\": [{\"name\": \"quotient\", \"numberValue\": 14.0}, {\"name\": \"remainder\", \"numbervalue\": 2.0}]}')"
      ]
     },
     "execution_count": 14,
     "metadata": {},
     "output_type": "execute_result"
    }
   ],
   "source": [
    "# test function or unit tests\n",
    "my_divmod(100, 7)"
   ]
  },
  {
   "cell_type": "code",
   "execution_count": 15,
   "metadata": {},
   "outputs": [],
   "source": [
    "divmod_op = create_component_from_func(\n",
    "    my_divmod,\n",
    "    base_image='tensorflow/tensorflow:1.11.0-py3'\n",
    ")"
   ]
  },
  {
   "cell_type": "code",
   "execution_count": 16,
   "metadata": {},
   "outputs": [],
   "source": [
    "@dsl.pipeline(\n",
    "    name=\"Calcilation pipeline\",\n",
    "    description=\"An example pipeline tha perform arithmetic calciations\"\n",
    ")\n",
    "\n",
    "def calc_pipeline(\n",
    "a='1', b='7', c='17',\n",
    "):\n",
    "    add_task = add_op(a, 4)\n",
    "    \n",
    "    divmod_task = divmod_op(add_task.output, b)\n",
    "    \n",
    "    result_task = add_op(divmod_task.outputs['quotient'], c)"
   ]
  },
  {
   "cell_type": "code",
   "execution_count": 17,
   "metadata": {},
   "outputs": [
    {
     "data": {
      "text/html": [
       "<a href=\"/pipeline/#/experiments/details/7a6fd791-8dbb-4955-af81-54856edd2715\" target=\"_blank\" >Experiment details</a>."
      ],
      "text/plain": [
       "<IPython.core.display.HTML object>"
      ]
     },
     "metadata": {},
     "output_type": "display_data"
    },
    {
     "data": {
      "text/html": [
       "<a href=\"/pipeline/#/runs/details/57c1182d-0b57-45bc-9adb-017f16f2bd93\" target=\"_blank\" >Run details</a>."
      ],
      "text/plain": [
       "<IPython.core.display.HTML object>"
      ]
     },
     "metadata": {},
     "output_type": "display_data"
    },
    {
     "data": {
      "text/plain": [
       "RunPipelineResult(run_id=57c1182d-0b57-45bc-9adb-017f16f2bd93)"
      ]
     },
     "execution_count": 17,
     "metadata": {},
     "output_type": "execute_result"
    }
   ],
   "source": [
    "# run pipeline\n",
    "arguments = { 'a': '7', 'b': '8'}\n",
    "\n",
    "client.create_run_from_pipeline_func(calc_pipeline,\n",
    "                                     arguments=arguments)"
   ]
  },
  {
   "cell_type": "code",
   "execution_count": null,
   "metadata": {},
   "outputs": [],
   "source": []
  }
 ],
 "metadata": {
  "kernelspec": {
   "display_name": "Python 3",
   "language": "python",
   "name": "python3"
  },
  "kubeflow_notebook": {
   "autosnapshot": true,
   "docker_image": "gcr.io/arrikto/jupyter-kale-py36@sha256:dd3f92ca66b46d247e4b9b6a9d84ffbb368646263c2e3909473c3b851f3fe198",
   "experiment": {
    "id": "",
    "name": ""
   },
   "experiment_name": "",
   "katib_metadata": {
    "algorithm": {
     "algorithmName": "grid"
    },
    "maxFailedTrialCount": 3,
    "maxTrialCount": 12,
    "objective": {
     "objectiveMetricName": "",
     "type": "minimize"
    },
    "parallelTrialCount": 3,
    "parameters": []
   },
   "katib_run": false,
   "pipeline_description": "",
   "pipeline_name": "",
   "snapshot_volumes": true,
   "steps_defaults": [
    "label:access-ml-pipeline:true",
    "label:access-rok:true"
   ],
   "volume_access_mode": "rwm",
   "volumes": [
    {
     "annotations": [],
     "mount_point": "/home/jovyan",
     "name": "tutorial-kubeflow-workspace-4sp4s",
     "size": 5,
     "size_type": "Gi",
     "snapshot": false,
     "type": "clone"
    }
   ]
  },
  "language_info": {
   "codemirror_mode": {
    "name": "ipython",
    "version": 3
   },
   "file_extension": ".py",
   "mimetype": "text/x-python",
   "name": "python",
   "nbconvert_exporter": "python",
   "pygments_lexer": "ipython3",
   "version": "3.6.9"
  }
 },
 "nbformat": 4,
 "nbformat_minor": 4
}
